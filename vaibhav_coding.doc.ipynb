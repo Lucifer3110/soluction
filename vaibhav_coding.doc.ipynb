{
 "cells": [
  {
   "cell_type": "markdown",
   "id": "6115f913",
   "metadata": {},
   "source": [
    "# Question 1 : Leader in the Array"
   ]
  },
  {
   "cell_type": "code",
   "execution_count": 1,
   "id": "f88f09db",
   "metadata": {},
   "outputs": [
    {
     "name": "stdout",
     "output_type": "stream",
     "text": [
      "10 6 5 2 "
     ]
    }
   ],
   "source": [
    "def printLeaders(arr,size):\n",
    "     \n",
    "    for i in range(0, size):\n",
    "        for j in range(i+1, size):\n",
    "            if arr[i]<=arr[j]:\n",
    "                break\n",
    "        if j == size-1: \n",
    "            print (arr[i],end=' ')\n",
    "            \n",
    "arr=[7, 10, 4, 10, 6, 5, 2]\n",
    "printLeaders(arr, len(arr))"
   ]
  },
  {
   "cell_type": "markdown",
   "id": "d598ab1a",
   "metadata": {},
   "source": [
    "# Question 2 :Best Time to Buy and Sell Stock"
   ]
  },
  {
   "cell_type": "code",
   "execution_count": 2,
   "id": "be1ae8d1",
   "metadata": {},
   "outputs": [
    {
     "name": "stdout",
     "output_type": "stream",
     "text": [
      "5\n"
     ]
    }
   ],
   "source": [
    "def maxProfit(prices):\n",
    "    buy = 0\n",
    "    sell = 1\n",
    "    max_profit = 0\n",
    "    while sell < len(prices):\n",
    "        if prices[sell] > prices[buy]:\n",
    "            profit = prices[sell] - prices[buy]\n",
    "            max_profit = max(profit, max_profit)\n",
    "        else:\n",
    "            buy = sell\n",
    "        sell = sell + 1\n",
    "    return max_profit\n",
    "\n",
    "prices = [7,1,5,3,6,4]\n",
    "print(maxProfit(prices))"
   ]
  },
  {
   "cell_type": "code",
   "execution_count": 5,
   "id": "c6c8cd1d",
   "metadata": {},
   "outputs": [
    {
     "name": "stdout",
     "output_type": "stream",
     "text": [
      "0\n"
     ]
    }
   ],
   "source": [
    "\n",
    "def maxProfit(self,prices):\n",
    "        left = 0 #Buy\n",
    "        right = 1 #Sell\n",
    "        max_profit = 0\n",
    "        while right < len(prices):\n",
    "            currentProfit = prices[right] - prices[left] #our current Profit\n",
    "            if prices[left] < prices[right]:\n",
    "                max_profit =max(currentProfit,max_profit)\n",
    "            else:\n",
    "                left = right\n",
    "            right += 1\n",
    "        return max_profit\n",
    "prices = [7,6,4,3,1]\n",
    "print(maxProfit(prices))"
   ]
  },
  {
   "cell_type": "markdown",
   "id": "e037bb41",
   "metadata": {},
   "source": [
    "# Question 3:Sum of All Subset XOR Totals"
   ]
  },
  {
   "cell_type": "code",
   "execution_count": 20,
   "id": "bda081b4",
   "metadata": {},
   "outputs": [],
   "source": [
    " def subsetXORSum(self, nums: list[int]) -> int:\n",
    "        result = 0\n",
    "        subsets = [0]\n",
    "        for n in nums:\n",
    "            new_subsets = subsets.copy()\n",
    "            for s in subsets:\n",
    "                new_subsets.append(s ^ n)\n",
    "                result += new_subsets[-1]\n",
    "            subsets = new_subsets\n",
    "                \n",
    "        return result"
   ]
  },
  {
   "cell_type": "code",
   "execution_count": null,
   "id": "7fb24930",
   "metadata": {},
   "outputs": [],
   "source": []
  },
  {
   "cell_type": "code",
   "execution_count": null,
   "id": "d338e71c",
   "metadata": {},
   "outputs": [],
   "source": []
  },
  {
   "cell_type": "code",
   "execution_count": null,
   "id": "62a458cb",
   "metadata": {},
   "outputs": [],
   "source": []
  },
  {
   "cell_type": "code",
   "execution_count": null,
   "id": "643ca5af",
   "metadata": {},
   "outputs": [],
   "source": []
  },
  {
   "cell_type": "code",
   "execution_count": null,
   "id": "a6039cab",
   "metadata": {},
   "outputs": [],
   "source": []
  },
  {
   "cell_type": "code",
   "execution_count": null,
   "id": "f3a7b537",
   "metadata": {},
   "outputs": [],
   "source": []
  },
  {
   "cell_type": "code",
   "execution_count": null,
   "id": "9f95faf0",
   "metadata": {},
   "outputs": [],
   "source": []
  },
  {
   "cell_type": "code",
   "execution_count": null,
   "id": "70f0257c",
   "metadata": {},
   "outputs": [],
   "source": []
  },
  {
   "cell_type": "code",
   "execution_count": null,
   "id": "6d0d181d",
   "metadata": {},
   "outputs": [],
   "source": []
  },
  {
   "cell_type": "code",
   "execution_count": null,
   "id": "2a37d037",
   "metadata": {},
   "outputs": [],
   "source": []
  }
 ],
 "metadata": {
  "kernelspec": {
   "display_name": "Python 3 (ipykernel)",
   "language": "python",
   "name": "python3"
  },
  "language_info": {
   "codemirror_mode": {
    "name": "ipython",
    "version": 3
   },
   "file_extension": ".py",
   "mimetype": "text/x-python",
   "name": "python",
   "nbconvert_exporter": "python",
   "pygments_lexer": "ipython3",
   "version": "3.9.12"
  }
 },
 "nbformat": 4,
 "nbformat_minor": 5
}
